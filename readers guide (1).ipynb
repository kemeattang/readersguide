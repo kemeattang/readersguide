{
 "cells": [
  {
   "cell_type": "code",
   "execution_count": 1,
   "metadata": {
    "collapsed": false
   },
   "outputs": [],
   "source": [
    "from tkinter import *\n",
    "import os"
   ]
  },
  {
   "cell_type": "code",
   "execution_count": 2,
   "metadata": {
    "collapsed": true
   },
   "outputs": [],
   "source": [
    "def getdict(path):\n",
    "    book = {}\n",
    "    for line in open(path+'BX-Books.csv',encoding='ISO-8859-1'):\n",
    "        line = line.replace('\"',\"\")\n",
    "        (ISBN,booktitle)=line.split(';')[0:2]\n",
    "        book[ISBN]=booktitle\n",
    "    p = {}\n",
    "    count = 0\n",
    "    for line in open(path+'BX-Book-Ratings.csv',encoding='ISO-8859-1'):\n",
    "        line = line.replace('\"', \"\") \n",
    "        line = line.replace(\"\\\\\",\"\")        \n",
    "        (user,ISBN,rating)=line.split(';')\n",
    "        try:\n",
    "            if float(rating) > 0.0:\n",
    "                p.setdefault(user,{})\n",
    "                p[user][book[ISBN]]=float(rating)\n",
    "        except ValueError:\n",
    "            count+=1\n",
    "            print ( user +\" \"+ ISBN )\n",
    "        except KeyError:\n",
    "            count+=1\n",
    "            print (user + \" \" + ISBN)\n",
    "    return p \n",
    "    "
   ]
  },
  {
   "cell_type": "code",
   "execution_count": 26,
   "metadata": {
    "collapsed": false
   },
   "outputs": [],
   "source": [
    "#userdata = getdict(path = 'C:\\\\Users\\\\AATTANG\\\\Downloads\\\\BX-CSV-Dump\\\\')"
   ]
  },
  {
   "cell_type": "code",
   "execution_count": 6,
   "metadata": {
    "collapsed": false
   },
   "outputs": [],
   "source": [
    "#userdata"
   ]
  },
  {
   "cell_type": "code",
   "execution_count": 7,
   "metadata": {
    "collapsed": false
   },
   "outputs": [],
   "source": [
    "#print out the list of books \n",
    "books = []\n",
    "IDs = [] \n",
    "for keys, values in userdata.items() :\n",
    "    IDs.insert(0,keys)\n",
    "    for key ,value in values.items():\n",
    "        books.insert(0,key)\n",
    "        #print(key)\n",
    "    #print (values)\n",
    "#print(books)"
   ]
  },
  {
   "cell_type": "code",
   "execution_count": 8,
   "metadata": {
    "collapsed": false
   },
   "outputs": [],
   "source": [
    "#print user IDs\n",
    "#userdata.keys()"
   ]
  },
  {
   "cell_type": "code",
   "execution_count": 12,
   "metadata": {
    "collapsed": false,
    "scrolled": false
   },
   "outputs": [],
   "source": [
    "#print(IDs)"
   ]
  },
  {
   "cell_type": "markdown",
   "metadata": {},
   "source": [
    "to see whether they are no duplicate IDs"
   ]
  },
  {
   "cell_type": "code",
   "execution_count": 9,
   "metadata": {
    "collapsed": false
   },
   "outputs": [
    {
     "data": {
      "text/plain": [
       "(77805, 77805)"
      ]
     },
     "execution_count": 9,
     "metadata": {},
     "output_type": "execute_result"
    }
   ],
   "source": [
    "len(IDs),  len(set(IDs))\n"
   ]
  },
  {
   "cell_type": "markdown",
   "metadata": {},
   "source": [
    "shows they are no duplicate users users"
   ]
  },
  {
   "cell_type": "code",
   "execution_count": 10,
   "metadata": {
    "collapsed": false
   },
   "outputs": [],
   "source": [
    "if len(books) > len(set(books)):\n",
    "   pass "
   ]
  },
  {
   "cell_type": "code",
   "execution_count": 11,
   "metadata": {
    "collapsed": true
   },
   "outputs": [],
   "source": [
    "def allUnique(x):\n",
    "    seen = set()\n",
    "    return not any(i in seen or seen.add(i) for i in x)"
   ]
  },
  {
   "cell_type": "code",
   "execution_count": 12,
   "metadata": {
    "collapsed": false
   },
   "outputs": [
    {
     "data": {
      "text/plain": [
       "False"
      ]
     },
     "execution_count": 12,
     "metadata": {},
     "output_type": "execute_result"
    }
   ],
   "source": [
    "allUnique(books)"
   ]
  },
  {
   "cell_type": "markdown",
   "metadata": {},
   "source": [
    " the shows that they arent unique variables in the data"
   ]
  },
  {
   "cell_type": "code",
   "execution_count": 13,
   "metadata": {
    "collapsed": false
   },
   "outputs": [],
   "source": [
    "#print unique list of books\n",
    "unique_books = set(books)"
   ]
  },
  {
   "cell_type": "code",
   "execution_count": 14,
   "metadata": {
    "collapsed": false
   },
   "outputs": [
    {
     "data": {
      "text/plain": [
       "(135394, 382807)"
      ]
     },
     "execution_count": 14,
     "metadata": {},
     "output_type": "execute_result"
    }
   ],
   "source": [
    "len(unique_books),len(books)"
   ]
  },
  {
   "cell_type": "markdown",
   "metadata": {},
   "source": [
    "They are 135394 books in the dataset "
   ]
  },
  {
   "cell_type": "markdown",
   "metadata": {},
   "source": [
    "Function to get random list of books "
   ]
  },
  {
   "cell_type": "code",
   "execution_count": 15,
   "metadata": {
    "collapsed": false
   },
   "outputs": [],
   "source": [
    "import random\n",
    "def getrandombooks(listofbooks):\n",
    "    list_of_random_items =  random.sample(listofbooks,10)\n",
    "    return list_of_random_items"
   ]
  },
  {
   "cell_type": "code",
   "execution_count": 16,
   "metadata": {
    "collapsed": false
   },
   "outputs": [
    {
     "data": {
      "text/plain": [
       "['The Quilt: Stories from the Names Project',\n",
       " 'Winter Soldier (Soldiers Of Fortune) (Silhouette Desire, No 1351)',\n",
       " \"The Interpreter (Ballantine Reader's Circle)\",\n",
       " 'Black Holes and Baby Universes and Other Essays',\n",
       " \"Midnight's Lair\",\n",
       " 'G.A.S. (GAS). Die Trilogie der Stadtwerke.',\n",
       " \"The Bodyguard's Story: Diana, the Crash, and the Sole Survivor\",\n",
       " 'Dominique Moceanu:: A Gymnastics Sensation',\n",
       " 'The Seven Storey Mountain: Fiftieth-Anniversary Edition',\n",
       " 'El Vizconde Demediado']"
      ]
     },
     "execution_count": 16,
     "metadata": {},
     "output_type": "execute_result"
    }
   ],
   "source": [
    "results = getrandombooks(unique_books)\n",
    "results"
   ]
  },
  {
   "cell_type": "markdown",
   "metadata": {
    "collapsed": true
   },
   "source": [
    "User based collaborative filtering and item based collaborative filtering"
   ]
  },
  {
   "cell_type": "code",
   "execution_count": 17,
   "metadata": {
    "collapsed": true
   },
   "outputs": [],
   "source": [
    "from random import randint\n",
    "import tkinter as RG\n",
    "from math import *"
   ]
  },
  {
   "cell_type": "code",
   "execution_count": 18,
   "metadata": {
    "collapsed": true
   },
   "outputs": [],
   "source": [
    "def euclidean_distance(p, person1, person2):\n",
    "    number=0\n",
    "    for item in p[person1]:\n",
    "        if item in p[person2]:\n",
    "            number += 1              \n",
    "    if number == 0: \n",
    "        return 0\n",
    "    sum_of_squares = sum([pow(p[person1][item]-p[person2][item],2) for item in p[person1] if item in p[person2]])\n",
    "\n",
    "    return 1 / (1 + sum_of_squares)\n",
    "\n",
    "def sim_pearson(p,p1,p2):\n",
    "    sim = {}\n",
    "    for item in p[p1]:\n",
    "        if item in p[p2]: \n",
    "            sim[item] = 1\n",
    "    if len(sim) == 0:\n",
    "        return 0\n",
    "    n = len(sim)\n",
    "    sum1 = sum([p[p1][it] for it in sim])\n",
    "    sum2 = sum([p[p2][it] for it in sim])\n",
    "    sum1Sq = sum([pow(p[p1][it],2) for it in sim])\n",
    "    sum2Sq = sum([pow(p[p2][it],2) for it in sim])\n",
    "    pSum = sum([p[p1][it] * p[p2][it] for it in sim])\n",
    "    num = pSum - (sum1 * sum2/n)\n",
    "    den = sqrt((sum1Sq - pow(sum1,2)/n) * (sum2Sq - pow(sum2,2)/n))\n",
    "    if den == 0:\n",
    "        return 0\n",
    "    r = num/den\n",
    "    return r"
   ]
  },
  {
   "cell_type": "code",
   "execution_count": 19,
   "metadata": {
    "collapsed": true
   },
   "outputs": [],
   "source": [
    "#Function to transform Person,book to book, person in the dictionary\n",
    "def transformdictionary(d):\n",
    "    results = {}\n",
    "    for person in d:\n",
    "        for item in d[person]:\n",
    "            results.setdefault(item,{})\n",
    "\n",
    "            #Flip book and userID\n",
    "            results[item][person] = d[person][item]\n",
    "    return results"
   ]
  },
  {
   "cell_type": "code",
   "execution_count": 20,
   "metadata": {
    "collapsed": false
   },
   "outputs": [],
   "source": [
    "flippeddict = transformdictionary(userdata)"
   ]
  },
  {
   "cell_type": "markdown",
   "metadata": {},
   "source": [
    "Looking at the distance between the each variable for the transformed dictionary using euclidean distance "
   ]
  },
  {
   "cell_type": "code",
   "execution_count": 22,
   "metadata": {
    "collapsed": false
   },
   "outputs": [],
   "source": [
    "def topmatches(p,person,n=5,similarity=euclidean_distance):\n",
    "    scores = [(similarity(p,person,other),other)\n",
    "                for other in p if other != person]\n",
    "    scores.sort()\n",
    "    scores.reverse()\n",
    "    return scores[0:n]\n"
   ]
  },
  {
   "cell_type": "markdown",
   "metadata": {},
   "source": [
    "User Interface"
   ]
  },
  {
   "cell_type": "code",
   "execution_count": 27,
   "metadata": {
    "collapsed": false
   },
   "outputs": [],
   "source": [
    "def signup():\n",
    "    window4 = RG.Toplevel(root)\n",
    "    window4.geometry(\"300x150+75+75\")\n",
    "    booklist1=Label(window4,text = \"name\")\n",
    "    value = StringVar()\n",
    "    entryvalue1 = Entry(window4,textvariable = value)\n",
    "    booklist1.grid(row=0, sticky=E)\n",
    "    entryvalue1.grid(row=0, column=1)\n",
    "    bookList2 = Label(window4,text= \"email \")\n",
    "    value1 = StringVar()\n",
    "    entryvalue2 = Entry(window4,textvariable = value1)\n",
    "    bookList2.grid(row=0, sticky=E)\n",
    "    entryvalue2.grid(row=0, column=1)\n",
    "    buttonSubmit= Button(window4, text=\"submit\", command= lambda: getuser())\n",
    "    buttonSubmit.grid(row= 5,column=1)\n",
    "    \n",
    "    def getuser():\n",
    "        A =random.sample(IDs,1)\n",
    "        window5 = RG.Toplevel(window4)\n",
    "        window5.geometry(\"300x150+75+75\")    \n",
    "        var = StringVar()\n",
    "        booklst= A    \n",
    "        var.set(booklst)  \n",
    "        labelName = Label(window5, text = \"This is your user ID\")        \n",
    "        bookList = Label(window5, textvariable=var) \n",
    "        labelName.grid(row=0, sticky=E)\n",
    "        bookList.grid(row=4)\n",
    "        window5.geometry(\"350x250+75+75\")\n",
    "        \n",
    "def putID():\n",
    "    window = RG.Toplevel(root)\n",
    "    window.geometry(\"300x150+75+75\")\n",
    "    bookList = Label(window, text=\"Enter ID \")  \n",
    "    Variable = StringVar()\n",
    "    entryValue = Entry(window, textvariable=Variable)\n",
    "    bookList.grid(row=0, sticky=E)\n",
    "    entryValue.grid(row=0, column=1)\n",
    "    buttonSubmit= Button(window, text=\"OK\", command= lambda: getRec(Variable))\n",
    "    buttonSubmit.grid(row= 5,column=1)\n",
    "# this uses user based         \n",
    "    def getRec(i):\n",
    "        similarity = euclidean_distance\n",
    "        try:\n",
    "            value = i.get()\n",
    "        except ValueError:\n",
    "            pass\n",
    "        totals={}\n",
    "        similarity_sum={}\n",
    "        for otherperson in userdata:\n",
    "            if otherperson==value: continue\n",
    "            sim=similarity(userdata,value,otherperson)\n",
    "            if sim<=0: continue\n",
    "            for item in userdata[otherperson] :\n",
    "                if item not in userdata[value] or userdata[value][item]==0:\n",
    "                    totals.setdefault(item,0)\n",
    "                    totals[item]+=sim*userdata[otherperson][item]\n",
    "                    similarity_sum.setdefault(item,0)\n",
    "                    similarity_sum[item]+=sim\n",
    "        scores=[(totals[item]/similarity_sum[item],item) for item in totals.keys()]\n",
    "        scores.sort()\n",
    "        scores.reverse()   \n",
    "        window1 = RG.Toplevel(window)\n",
    "        window1.geometry(\"300x150+75+75\")       \n",
    "        var = StringVar()\n",
    "        booklst= '\\n'.join([x[1] for x in scores[0:8]])       \n",
    "        var.set(booklst)       \n",
    "        labelName = Label(window1, text = \"Recommendations based on Similar User\")        \n",
    "        bookList = Label(window1, textvariable=var)   \n",
    "        labelName.grid(row=0, sticky=E)\n",
    "        bookList.grid(row=4)\n",
    "        window1.geometry(\"350x250+75+75\")\n",
    "# this implements item based on random selection of a book\n",
    "def randombooks():\n",
    "    window2 = RG.Toplevel(root)\n",
    "    window2.geometry(\"300x150+75+75\")\n",
    "    bookList1 = Label(window2, text=\"click 'ok' to start\")\n",
    "    bookList1.grid(row=0, sticky=E)\n",
    "    buttonSubmit= Button(window2, text=\"OK\", command= lambda: rando(books))\n",
    "    buttonSubmit.grid(row= 5,column=1)\n",
    "  \n",
    "    def rando(result):\n",
    "        items = random.sample(result,1)\n",
    "        window3 = RG.Toplevel(window2)\n",
    "        window3.geometry(\"300x150+75+75\")\n",
    "        var = StringVar()\n",
    "        book= '\\n'.join([x for x in items[0:1]])  \n",
    "        var.set(book)\n",
    "        labelName = Label(window3, text = \"Start reading this\")        \n",
    "        bookList = Label(window3, textvariable=var)\n",
    "        buttonSubmit1= Button(window3, text=\"get the next\", command= lambda: simila(items))\n",
    "        buttonSubmit1.grid(row= 5,column=1)\n",
    "        labelName.grid(row=0, sticky=E)\n",
    "        bookList.grid(row=4)\n",
    "        window3.geometry(\"350x250+75+75\")\n",
    "        \n",
    "        def simila(item):\n",
    "            z =item[0]\n",
    "            lol =topmatches(flippeddict,z,n=8,similarity=sim_pearson)\n",
    "            window6 = RG.Toplevel(window3)\n",
    "            window6.geometry(\"300x150+75+75\")\n",
    "            var = StringVar()\n",
    "            book= '\\n'.join([x[1] for x in lol])\n",
    "            var.set(book)\n",
    "            labelName1 = Label(window6, text = \"if you liked that book you may like these\")        \n",
    "            bookList1 = Label(window6, textvariable=var)\n",
    "            labelName1.grid(row=0, sticky=E)\n",
    "            bookList1.grid(row=4)\n",
    "            window6.geometry(\"350x250+75+75\")"
   ]
  },
  {
   "cell_type": "code",
   "execution_count": 28,
   "metadata": {
    "collapsed": false
   },
   "outputs": [],
   "source": [
    "root = Tk()\n",
    "root.geometry(\"300x200+200+200\")\n",
    "theLabel = Label(root, text=\"Welcome to Readers Guide\")\n",
    "theLabel.pack()\n",
    "topFrame = Frame(root)\n",
    "topFrame.pack(fill=BOTH, expand=True)\n",
    "buttonsignup = Button(topFrame,text = 'sign in',command =signup )\n",
    "buttonsignup.pack()\n",
    "buttonBook = Button(topFrame, text=\"start reading(guest)\",command =randombooks)\n",
    "buttonBook.pack()\n",
    "buttonRec = Button(topFrame, text=\"Book Recommendation\",command=putID)\n",
    "buttonRec.pack()\n",
    "\n",
    "root.mainloop()"
   ]
  },
  {
   "cell_type": "markdown",
   "metadata": {
    "collapsed": true
   },
   "source": [
    "# Evaluation\n"
   ]
  },
  {
   "cell_type": "code",
   "execution_count": 192,
   "metadata": {
    "collapsed": false
   },
   "outputs": [],
   "source": [
    "def evaluation(user,k,df1):\n",
    "    usersim = []\n",
    "    simu = []\n",
    "    users_products = list(np.nonzero(df1[user]))\n",
    "    books = users_products[0][0]\n",
    "    user_review = df1[user,books]\n",
    "    users_with_prod = np.where(df1[:,books]!= 0)[0]\n",
    "    for i in users_with_product:\n",
    "        if i != user:\n",
    "            sim = topmatches(df1,user,n=5,similarity=sim_pearson)\n",
    "            usersim.append([sim,i])\n",
    "    usersim.sort()\n",
    "    usersim.reverse()\n",
    "    for item in usersim[:k]:\n",
    "        simu.append(item[1])\n",
    "    rat = 0\n",
    "    for kuser in simu:\n",
    "        rat+=df1[kuser][books]\n",
    "    pred_rating = rat/k\n",
    "    return pred_rating,users_review\n",
    "    "
   ]
  },
  {
   "cell_type": "code",
   "execution_count": 200,
   "metadata": {
    "collapsed": true
   },
   "outputs": [],
   "source": [
    "def cal_mae(df1,ratio,k):\n",
    "    num_users = np.shape(df1)[0]\n",
    "    list_of_users = list(range(0,num_users))\n",
    "    np.random.shuffle(list_of_users)\n",
    "    subset_size = int(num_users*ratio)\n",
    "    print(subset_size)\n",
    "    subset_users =list_of_users[0:subset_size]\n",
    "    print(subset_users)\n",
    "    abserror = 0\n",
    "    count = 0\n",
    "    for wuser in subset_users:\n",
    "        pred,user = evaluation(wuser,k,df1)\n",
    "        abserror += abs(pred - userr)\n",
    "        count += 1\n",
    "    MAE = abserror/count\n",
    "    print(\"mean absolute error\",MAE)"
   ]
  },
  {
   "cell_type": "code",
   "execution_count": null,
   "metadata": {
    "collapsed": true
   },
   "outputs": [],
   "source": []
  }
 ],
 "metadata": {
  "anaconda-cloud": {},
  "kernelspec": {
   "display_name": "Python 3",
   "language": "python",
   "name": "python3"
  },
  "language_info": {
   "codemirror_mode": {
    "name": "ipython",
    "version": 3
   },
   "file_extension": ".py",
   "mimetype": "text/x-python",
   "name": "python",
   "nbconvert_exporter": "python",
   "pygments_lexer": "ipython3",
   "version": "3.5.2"
  }
 },
 "nbformat": 4,
 "nbformat_minor": 0
}
